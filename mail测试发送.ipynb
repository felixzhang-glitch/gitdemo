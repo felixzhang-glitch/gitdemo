{
 "cells": [
  {
   "cell_type": "code",
   "execution_count": 5,
   "id": "9c5262aa",
   "metadata": {},
   "outputs": [
    {
     "name": "stdout",
     "output_type": "stream",
     "text": [
      "邮件发送成功\n"
     ]
    },
    {
     "name": "stderr",
     "output_type": "stream",
     "text": [
      "send: 'ehlo smtp.163.com\\r\\n'\n",
      "reply: b'250-mail\\r\\n'\n",
      "reply: b'250-PIPELINING\\r\\n'\n",
      "reply: b'250-AUTH LOGIN PLAIN XOAUTH2\\r\\n'\n",
      "reply: b'250-AUTH=LOGIN PLAIN XOAUTH2\\r\\n'\n",
      "reply: b'250-coremail 1Uxr2xKj7kG0xkI17xGrU7I0s8FY2U3Uj8Cz28x1UUUUU7Ic2I0Y2UrA5E4jUCa0xDrUUUUj\\r\\n'\n",
      "reply: b'250-STARTTLS\\r\\n'\n",
      "reply: b'250-ID\\r\\n'\n",
      "reply: b'250 8BITMIME\\r\\n'\n",
      "reply: retcode (250); Msg: b'mail\\nPIPELINING\\nAUTH LOGIN PLAIN XOAUTH2\\nAUTH=LOGIN PLAIN XOAUTH2\\ncoremail 1Uxr2xKj7kG0xkI17xGrU7I0s8FY2U3Uj8Cz28x1UUUUU7Ic2I0Y2UrA5E4jUCa0xDrUUUUj\\nSTARTTLS\\nID\\n8BITMIME'\n"
     ]
    },
    {
     "data": {
      "text/plain": [
       "(250,\n",
       " b'mail\\nPIPELINING\\nAUTH LOGIN PLAIN XOAUTH2\\nAUTH=LOGIN PLAIN XOAUTH2\\ncoremail 1Uxr2xKj7kG0xkI17xGrU7I0s8FY2U3Uj8Cz28x1UUUUU7Ic2I0Y2UrA5E4jUCa0xDrUUUUj\\nSTARTTLS\\nID\\n8BITMIME')"
      ]
     },
     "execution_count": 5,
     "metadata": {},
     "output_type": "execute_result"
    }
   ],
   "source": [
    "#!/usr/bin/python3\n",
    " \n",
    "import smtplib\n",
    "from email.mime.text import MIMEText\n",
    "from email.header import Header\n",
    " \n",
    "# 第三方 SMTP 服务\n",
    "mail_host=\"smtp.163.com\"  #设置服务器\n",
    "mail_user=\"stunning_spectacle@163.com\"    #用户名\n",
    "mail_pass=\"GVXNBRSOBGCCQLKY\"   #口令 \n",
    " \n",
    " \n",
    "sender = 'stunning_spectacle@163.com'\n",
    "receivers = ['felix.zhang@cloudwise.com']  # 接收邮件，可设置为你的QQ邮箱或者其他邮箱\n",
    " \n",
    "message = MIMEText('Python 邮件发送测试...', 'plain', 'utf-8')\n",
    "message['From'] = Header(\"菜鸟教程\", 'utf-8')\n",
    "message['To'] =  Header(\"测试\", 'utf-8')\n",
    " \n",
    "subject = 'Python SMTP 邮件测试'\n",
    "message['Subject'] = Header(subject, 'utf-8')\n",
    " \n",
    " \n",
    "try:\n",
    "    smtpObj = smtplib.SMTP() \n",
    "    smtpObj.connect(mail_host, 25)    \n",
    "    smtpObj.login(mail_user,mail_pass)\n",
    "    smtpObj.sendmail(sender, receivers, message.as_string())\n",
    "    print (\"邮件发送成功\")\n",
    "except smtplib.SMTPException:\n",
    "    print (\"Error: 无法发送邮件\")\n",
    "\n",
    "smtpObj.set_debuglevel(1)\n",
    "smtpObj.ehlo(mail_host)"
   ]
  },
  {
   "cell_type": "code",
   "execution_count": null,
   "id": "fb4d2585",
   "metadata": {},
   "outputs": [],
   "source": []
  },
  {
   "cell_type": "code",
   "execution_count": null,
   "id": "aae27605",
   "metadata": {},
   "outputs": [],
   "source": []
  }
 ],
 "metadata": {
  "kernelspec": {
   "display_name": "Python 3 (ipykernel)",
   "language": "python",
   "name": "python3"
  },
  "language_info": {
   "codemirror_mode": {
    "name": "ipython",
    "version": 3
   },
   "file_extension": ".py",
   "mimetype": "text/x-python",
   "name": "python",
   "nbconvert_exporter": "python",
   "pygments_lexer": "ipython3",
   "version": "3.9.6"
  }
 },
 "nbformat": 4,
 "nbformat_minor": 5
}
